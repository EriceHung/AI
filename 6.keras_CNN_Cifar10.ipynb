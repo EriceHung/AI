# 匯入必要套件
from tensorflow import keras
from keras.models import Sequential
from keras.layers import Dense, Conv2D, MaxPooling2D, Flatten

# ==============================
# 一、建立 CNN 模型結構
# ==============================
model = Sequential()

# 第1層卷積：輸入為 32x32 彩色圖 (3 通道)
# filters=64：使用 64 個卷積核
# kernel_size=(5,5)：每個卷積核大小為 5x5
# activation='relu'：使用 ReLU 激活函數，讓模型能學習非線性特徵
model.add(Conv2D(filters=64, kernel_size=(5, 5), input_shape=(32, 32, 3), activation='relu'))

# 第2層卷積：再使用 64 個卷積核，進一步萃取特徵
model.add(Conv2D(filters=64, kernel_size=(5, 5), activation='relu'))

# 第1層池化層：取 2x2 的最大值，降低影像尺寸與參數量
model.add(MaxPooling2D(pool_size=2))

# 第3層卷積：128 個卷積核，偵測更高階的影像特徵
model.add(Conv2D(filters=128, kernel_size=(5, 5), activation='relu'))

# 第4層卷積：再用 128 個卷積核強化特徵表現
model.add(Conv2D(filters=128, kernel_size=(5, 5), activation='relu'))

# 第2層池化層：再次壓縮影像尺寸
model.add(MaxPooling2D(pool_size=2))

# 將多維特徵攤平成一維
model.add(Flatten())

# 全連接輸出層：10 類（airplane ~ truck）
model.add(Dense(10, activation='softmax'))

# 顯示模型摘要資訊
model.summary()

# ==============================
# 二、設定模型訓練參數
# ==============================
# optimizer='rmsprop' ：自動調整學習率的優化器
# loss='categorical_crossentropy' ：多分類損失函數（對應 one-hot 標籤）
# metrics=['accuracy'] ：使用準確率作為模型表現指標
model.compile(optimizer='rmsprop', loss='categorical_crossentropy', metrics=['accuracy'])


# ==============================
# 三、載入 CIFAR-10 資料集
# ==============================
# CIFAR-10 共有 10 類，圖像大小為 32x32x3（彩色）
cifar10 = keras.datasets.cifar10
(train_data, train_label), (test_data, test_label) = cifar10.load_data()

# 保留原始標籤以供可視化與分析
train_label_original = train_label

# 將標籤轉為 one-hot 編碼格式
train_label = keras.utils.to_categorical(train_label)
test_label = keras.utils.to_categorical(test_label)


# ==============================
# 四、資料可視化
# ==============================
import matplotlib.pyplot as plt

# CIFAR-10 各類名稱
category = ['airplane', 'automobile', 'bird', 'cat', 'deer', 
            'dog', 'frog', 'horse', 'ship', 'truck']

# 顯示第1張訓練影像與對應類別
plt.imshow(train_data[0])
plt.title(category[int(train_label_original[0])])
plt.show()
print(train_label_original[0])   # e.g. [6] → frog


# ==============================
# 五、訓練模型
# ==============================
# epochs=30：訓練 30 個回合
# batch_size=512：每次更新使用 512 筆樣本
train_history = model.fit(train_data, train_label, epochs=30, batch_size=512)


# ==============================
# 六、測試模型效能
# ==============================
score = model.evaluate(test_data, test_label)
print("測試資料準確率：", score[1])
# => 約 0.59 (59%)，代表模型對測試集準確率約六成


# ==============================
# 七、繪製訓練歷史圖
# ==============================
import numpy as np

def show_train_history(train_history, train):
    plt.plot(train_history.history[train])
    plt.title('Train History')
    plt.ylabel(train)
    plt.xlabel('Epoch')
    plt.legend(['train'], loc='center right')
    plt.show()

# 顯示訓練過程中的準確率變化
show_train_history(train_history, 'accuracy')

# 顯示訓練過程中的損失變化
show_train_history(train_history, 'loss')
