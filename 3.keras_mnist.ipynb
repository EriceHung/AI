# 匯入 Keras 與必要模組
from tensorflow import keras
from keras.models import Sequential
from keras.layers import Dense, Flatten

# ==============================
# 載入 MNIST 手寫數字資料集
# ==============================
# MNIST 是一個常用的入門資料集，包含 0~9 共 10 種手寫數字圖片
mnist = keras.datasets.mnist

# train_data: 訓練用影像資料 (60000 張 28x28 的灰階圖)
# train_label: 對應的標籤（0~9）
# test_data, test_label: 測試資料與標籤
(train_data, train_label), (test_data, test_label) = mnist.load_data()

# ==============================
# 資料結構檢查
# ==============================
print(type(train_data))   # 輸出：<class 'numpy.ndarray'>
print(train_data.shape)   # (60000, 28, 28)：共 6 萬張 28x28 的灰階圖片
print(type(train_label))  # <class 'numpy.ndarray'>
print(train_label.shape)  # (60000,)：每張圖片有一個數字標籤
print(test_data.shape)    # (10000, 28, 28)：1 萬張測試圖片
print(test_label.shape)   # (10000,)

# ==============================
# 查看第一筆訓練資料
# ==============================
print(train_label[0])     # 顯示第一張圖片的數字標籤，例如：5
print(train_data[0])      # 顯示圖片的像素矩陣（0~255 的灰階值）

# ==============================
# 視覺化範例圖片
# ==============================
import matplotlib.pyplot as plt
plt.imshow(train_data[0], cmap='binary')  # 使用灰階顯示
plt.show()

# ==============================
# 建立神經網路模型 (Sequential)
# ==============================
# Sequential 表示模型是「線性堆疊」的（每層依序連接）
model = Sequential()

# Flatten 層：將 28x28 的影像「攤平成」784 維的向量，以利全連接層處理
model.add(Flatten())

# 第一層全連接層（Dense layer）：
#   - 含有 32 個神經元
#   - 使用 ReLU (Rectified Linear Unit) 作為激活函數
#   - input_dim=784 表示輸入為 784 維（28x28）
model.add(Dense(32, activation='relu', input_dim=784))

# 第二層（輸出層）：
#   - 含有 10 個輸出神經元（對應 0~9 共 10 種數字）
#   - 使用 sigmoid 激活函數（可以輸出每一類的機率值）
model.add(Dense(10, activation='sigmoid'))

# ==============================
# 編譯模型 (Compile)
# ==============================
#   - optimizer: 'rmsprop' 為一種梯度下降的優化器
#   - loss: 'sparse_categorical_crossentropy' 適合用於整數型標籤的多分類任務
#   - metrics: ['accuracy'] 用於評估準確率
model.compile(optimizer='rmsprop',
              loss='sparse_categorical_crossentropy',
              metrics=['accuracy'])

# ==============================
# 訓練模型 (Fit)
# ==============================
#   - epochs: 訓練週期數 (重複整個資料集 20 次)
#   - batch_size: 每批次處理 512 筆資料
#   - train_data / train_label: 訓練資料與標籤
model.fit(train_data, train_label, epochs=20, batch_size=512)

# ==============================
# 評估模型表現 (Evaluate)
# ==============================
#   - 使用測試資料評估模型準確率
score = model.evaluate(test_data, test_label)

# 輸出準確率
print(score[1])  # e.g. 0.9322，表示準確率約 93.22%
