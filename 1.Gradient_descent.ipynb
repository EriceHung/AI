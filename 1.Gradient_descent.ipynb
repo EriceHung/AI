# 匯入必要的套件
import numpy as np                      # 用於數學運算，例如陣列與平方運算
import matplotlib.pyplot as plt          # 用於繪圖顯示結果

# ==============================
# 定義目標函數與其導數
# ==============================

# 目標函數: y = x^2
# 我們要找的是讓 y 最小的 x 值（理論上應該是 x = 0）
def func(x): 
    return np.square(x)                  # 等價於 x ** 2

# 目標函數的一階導數: dy/dx = 2x
# 導數表示函數在該點的斜率，用來決定梯度下降的方向
def dfunc(x): 
    return 2 * x

# ==============================
# 定義梯度下降法 (Gradient Descent)
# ==============================

def GD(x_start, df, epochs, lr):    
    """  
    梯度下降法：
    給定起始點與目標函數的一階導函數，透過反覆更新 x，
    逐步逼近使函數最小化的解。
    
    參數說明：
        x_start : 初始值（起始點）
        df      : 目標函數的一階導函數
        epochs  : 迭代次數（反覆更新的次數）
        lr      : 學習率 (Learning Rate)，控制每次更新的幅度

    回傳：
        xs : 每次迭代後的 x 值（包含初始值），陣列長度為 epochs + 1
    """    
    
    xs = np.zeros(epochs + 1)            # 建立一個陣列，紀錄每次更新後的 x 值
    x = x_start                          # 設定初始點
    xs[0] = x                            # 將初始值存入第 0 次迭代位置
    
    # 開始進行多次迭代
    for i in range(epochs):         
        dx = df(x)                       # 計算目前點的導數（斜率）
        v = -dx * lr                     # 根據學習率與斜率計算要移動的距離（反方向）
        x += v                           # 更新 x 的位置
        xs[i + 1] = x                    # 儲存更新後的 x 值
    
    return xs                            # 回傳所有歷次 x 的變化

# ==============================
# 主程式區塊
# ==============================

# 設定初始值（起始權重）
x_start = 5    

# 設定執行週期數（迭代次數）
epochs = 15 

# 設定學習率（Learning Rate）
lr = 0.3   

# 呼叫梯度下降函式，執行訓練過程
x = GD(x_start, dfunc, epochs, lr=lr) 

# 印出每次更新後的 x 值
print(x)
# 例如輸出結果為：
# [5.     2.     0.8    0.32   0.128  0.0512]
# 可以看到 x 值逐漸趨近於 0（即 y 最小的位置）

# ==============================
# 視覺化結果
# ==============================

color = 'r'    

# 繪製目標函數曲線 y = x^2
from numpy import arange
t = arange(-6.0, 6.0, 0.01)             # 產生範圍為 -6 到 6 的 x 值
plt.plot(t, func(t), c='b')             # 繪製 y = x^2 的藍色曲線

# 繪製梯度下降過程中 x 的變化軌跡
plt.plot(x, func(x), c=color, label='lr={}'.format(lr))    

# 標出每次更新後的點
plt.scatter(x, func(x), c=color)        

# 顯示圖例（標示學習率）
plt.legend()

# 顯示整張圖表
plt.show()
